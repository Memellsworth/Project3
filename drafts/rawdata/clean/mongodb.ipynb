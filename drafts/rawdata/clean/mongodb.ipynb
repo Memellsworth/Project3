{
 "cells": [
  {
   "cell_type": "markdown",
   "id": "30d785b4",
   "metadata": {},
   "source": [
    "### Import datasets from five csv files into the maindb database\n",
    "\n",
    "\n",
    "mongoimport --type csv -d maindb -c carrier_key_table --headerline --drop carrier_key_table.csv\n",
    "\n",
    "\n",
    "mongoimport --type csv -d maindb -c full_detail_airports --headerline --drop full_detail_airports.csv\n",
    "\n",
    "\n",
    "mongoimport --type csv -d maindb -c raw_current --headerline --drop raw_current.csv\n",
    "\n",
    "\n",
    "mongoimport --type csv -d maindb -c raw_past --headerline --drop raw_past.csv\n",
    "\n",
    "\n",
    "mongoimport --type csv -d maindb -c us_airports --headerline --drop us-airports.csv\n",
    "\n",
    "\n"
   ]
  },
  {
   "cell_type": "code",
   "execution_count": 1,
   "id": "f34a824b",
   "metadata": {},
   "outputs": [],
   "source": [
    "# Import dependencies\n",
    "from pymongo import MongoClient\n",
    "from pprint import pprint"
   ]
  },
  {
   "cell_type": "code",
   "execution_count": 2,
   "id": "d8f60bc1",
   "metadata": {},
   "outputs": [],
   "source": [
    "# Create an instance of MongoClient\n",
    "mongo = MongoClient(port=27017)"
   ]
  },
  {
   "cell_type": "code",
   "execution_count": 3,
   "id": "cdcc470a",
   "metadata": {},
   "outputs": [
    {
     "name": "stdout",
     "output_type": "stream",
     "text": [
      "['Customerdb', 'admin', 'config', 'epa', 'fruits_db', 'local', 'maindb', 'met', 'petsitly_marketing', 'uk_food']\n"
     ]
    }
   ],
   "source": [
    "# confirm that our new database was created\n",
    "print(mongo.list_database_names())"
   ]
  },
  {
   "cell_type": "code",
   "execution_count": 4,
   "id": "5029676e",
   "metadata": {},
   "outputs": [],
   "source": [
    "# assign the uk_food database to a variable name\n",
    "db = mongo['maindb']"
   ]
  },
  {
   "cell_type": "code",
   "execution_count": 9,
   "id": "f02ef698",
   "metadata": {},
   "outputs": [
    {
     "data": {
      "text/plain": [
       "['raw_current',\n",
       " 'us_airports',\n",
       " 'us-airports',\n",
       " 'carrier_key_table',\n",
       " 'full_detail_airports',\n",
       " 'raw_past']"
      ]
     },
     "execution_count": 9,
     "metadata": {},
     "output_type": "execute_result"
    }
   ],
   "source": [
    "# review the collections in our new database\n",
    "db.list_collection_names()"
   ]
  },
  {
   "cell_type": "code",
   "execution_count": 6,
   "id": "4d382917",
   "metadata": {},
   "outputs": [
    {
     "name": "stdout",
     "output_type": "stream",
     "text": [
      "{'ARR_DELAY': 1851,\n",
      " 'CANCELLATION_CODE': 58.0,\n",
      " 'CANCELLED': 8.0,\n",
      " 'CARRIER_DELAY': '',\n",
      " 'DEP_DELAY': ' TX\"',\n",
      " 'DEST': 30194,\n",
      " 'DEST_AIRPORT_ID': 'Texas',\n",
      " 'DEST_AIRPORT_SEQ_ID': 11298,\n",
      " 'DEST_CITY_MARKET_ID': 1129806,\n",
      " 'DEST_CITY_NAME': 'DFW',\n",
      " 'DEST_STATE_NM': '\"Dallas/Fort Worth',\n",
      " 'DIVERTED': 0.0,\n",
      " 'DIV_DISTANCE': 0.0,\n",
      " 'FL_DATE': '4/1/2022 12:00:00 AM',\n",
      " 'LATE_AIRCRAFT_DELAY': 0.0,\n",
      " 'MONTH': 4,\n",
      " 'NAS_DELAY': 58.0,\n",
      " 'OP_CARRIER_FL_NUM': 1474,\n",
      " 'OP_UNIQUE_CARRIER': 'AA',\n",
      " 'ORIGIN': 'IAH',\n",
      " 'ORIGIN_AIRPORT_ID': 12266,\n",
      " 'ORIGIN_AIRPORT_SEQ_ID': 1226603,\n",
      " 'ORIGIN_CITY_MARKET_ID': 31453,\n",
      " 'ORIGIN_CITY_NAME': '\"Houston',\n",
      " 'ORIGIN_STATE_NM': ' TX\"',\n",
      " 'QUARTER': 2,\n",
      " 'SECURITY_DELAY': 0.0,\n",
      " 'TAIL_NUM': 'N341RW',\n",
      " 'TAXI_IN': 1809,\n",
      " 'TAXI_OUT': 'Texas',\n",
      " 'WEATHER_DELAY': 0.0,\n",
      " 'WHEELS_OFF': 81.0,\n",
      " 'WHEELS_ON': 15.0,\n",
      " 'YEAR': 2022,\n",
      " '_id': ObjectId('64ad8495bbde053c78324f92')}\n"
     ]
    }
   ],
   "source": [
    "# review a document in the establishments collection\n",
    "pprint(db.raw_current.find_one())"
   ]
  },
  {
   "cell_type": "code",
   "execution_count": 7,
   "id": "2710c934",
   "metadata": {},
   "outputs": [
    {
     "name": "stdout",
     "output_type": "stream",
     "text": [
      "{'Actual departure time': '15:58',\n",
      " 'Actual elapsed time (Minutes)': 66,\n",
      " 'Carrier Code': 'AA',\n",
      " 'Date (MM/DD/YYYY)': '2013-01-01',\n",
      " 'Delay Carrier (Minutes)': 0,\n",
      " 'Delay Late Aircraft Arrival (Minutes)': 0,\n",
      " 'Delay National Aviation System (Minutes)': 0,\n",
      " 'Delay Security (Minutes)': 0,\n",
      " 'Delay Weather (Minutes)': 0,\n",
      " 'Departure delay (Minutes)': -2,\n",
      " 'Destination Airport': 'DFW',\n",
      " 'Flight Number': 472,\n",
      " 'Scheduled departure time': '16:00',\n",
      " 'Scheduled elapsed time (Minutes)': 75,\n",
      " 'Tail Number': 'N514AA',\n",
      " 'Taxi-Out time (Minutes)': 18,\n",
      " 'Wheels-off time': '16:16',\n",
      " '_id': ObjectId('64ad84c45d4f3a2977b68db7')}\n"
     ]
    }
   ],
   "source": [
    "# review a document in the establishments collection\n",
    "pprint(db.raw_past.find_one())"
   ]
  },
  {
   "cell_type": "code",
   "execution_count": 8,
   "id": "e7e3d8d7",
   "metadata": {},
   "outputs": [
    {
     "name": "stdout",
     "output_type": "stream",
     "text": [
      "{'_id': ObjectId('64ad870628bd393e1fe088da'),\n",
      " 'continent': 'NA',\n",
      " 'country_name': 'United States',\n",
      " 'elevation_ft': 125,\n",
      " 'gps_code': 'KLAX',\n",
      " 'home_link': 'https://www.flylax.com/',\n",
      " 'iata_code': 'LAX',\n",
      " 'id': 3632,\n",
      " 'ident': 'KLAX',\n",
      " 'iso_country': 'US',\n",
      " 'iso_region': 'US-CA',\n",
      " 'keywords': '',\n",
      " 'last_updated': '2023-05-20T21:11:41+00:00',\n",
      " 'latitude_deg': 33.942501,\n",
      " 'local_code': 'LAX',\n",
      " 'local_region': 'CA',\n",
      " 'longitude_deg': -118.407997,\n",
      " 'municipality': 'Los Angeles',\n",
      " 'name': 'Los Angeles / Tom Bradley International Airport',\n",
      " 'region_name': 'California',\n",
      " 'scheduled_service': 1,\n",
      " 'score': 1335475,\n",
      " 'type': 'large_airport',\n",
      " 'wikipedia_link': 'https://en.wikipedia.org/wiki/Los_Angeles_International_Airport'}\n"
     ]
    }
   ],
   "source": [
    "# review a document in the establishments collection\n",
    "pprint(db.us_airports.find_one())"
   ]
  },
  {
   "cell_type": "code",
   "execution_count": 11,
   "id": "2cd6e3b7",
   "metadata": {},
   "outputs": [
    {
     "name": "stdout",
     "output_type": "stream",
     "text": [
      "{'Airline Carrier': 'Endeavor Air',\n",
      " 'Carrier Code': '9E',\n",
      " 'Headquarter City': 'Minneapolis',\n",
      " 'Nearest Base': 'ATL',\n",
      " 'Nearest Base City': 'Atlanta',\n",
      " '_id': ObjectId('64ad836c27eaedacccccb24f'),\n",
      " 'logo': 'https://en.wikipedia.org/wiki/File:Endeavor_Air_logo.svg'}\n"
     ]
    }
   ],
   "source": [
    "# review a document in the establishments collection\n",
    "pprint(db.carrier_key_table.find_one())"
   ]
  },
  {
   "cell_type": "code",
   "execution_count": 12,
   "id": "290a4287",
   "metadata": {},
   "outputs": [
    {
     "name": "stdout",
     "output_type": "stream",
     "text": [
      "{'': 1,\n",
      " '_id': ObjectId('64ad8453bf56beaa6df8b15d'),\n",
      " 'continent': '',\n",
      " 'country_name': 'United States',\n",
      " 'elevation_ft': 5355.0,\n",
      " 'gps_code': 'KABQ',\n",
      " 'home_link': 'http://www.abqsunport.com/',\n",
      " 'iata_code': 'ABQ',\n",
      " 'id': 16091.0,\n",
      " 'ident': 'KABQ',\n",
      " 'iso_country': 'US',\n",
      " 'iso_region': 'US-NM',\n",
      " 'keywords': '',\n",
      " 'last_updated': '2021-11-21T14:58:42+00:00',\n",
      " 'latitude_deg': 35.040199,\n",
      " 'local_code': 'ABQ',\n",
      " 'local_region': 'NM',\n",
      " 'longitude_deg': -106.609001,\n",
      " 'municipality': 'Albuquerque',\n",
      " 'name': 'Albuquerque International Sunport',\n",
      " 'region_name': 'New Mexico',\n",
      " 'scheduled_service': 1.0,\n",
      " 'score': 500.0,\n",
      " 'type': 'medium_airport',\n",
      " 'wikipedia_link': 'https://en.wikipedia.org/wiki/Albuquerque_International_Sunport'}\n"
     ]
    }
   ],
   "source": [
    "# review a document in the establishments collection\n",
    "pprint(db.full_detail_airports.find_one())"
   ]
  },
  {
   "cell_type": "code",
   "execution_count": 13,
   "id": "cf2e1f2b",
   "metadata": {},
   "outputs": [],
   "source": [
    "# assign the collection to a variable\n",
    "raw_current = db['raw_current']\n",
    "raw_past = db['raw_past']\n",
    "us_airports = db['us_airports']\n",
    "carrier_key_table = db['carrier_key_table']\n",
    "full_detail_airports = db['full_detail_airports']\n",
    "\n"
   ]
  },
  {
   "cell_type": "code",
   "execution_count": null,
   "id": "75d7aa2a",
   "metadata": {},
   "outputs": [],
   "source": []
  }
 ],
 "metadata": {
  "kernelspec": {
   "display_name": "Python 3 (ipykernel)",
   "language": "python",
   "name": "python3"
  },
  "language_info": {
   "codemirror_mode": {
    "name": "ipython",
    "version": 3
   },
   "file_extension": ".py",
   "mimetype": "text/x-python",
   "name": "python",
   "nbconvert_exporter": "python",
   "pygments_lexer": "ipython3",
   "version": "3.9.16"
  }
 },
 "nbformat": 4,
 "nbformat_minor": 5
}
