{
 "cells": [
  {
   "cell_type": "code",
   "execution_count": 2,
   "metadata": {},
   "outputs": [],
   "source": [
    "# IMPORT MODULES\n",
    "import pandas as pd\n",
    "import os\n",
    "import glob\n",
    "import csv"
   ]
  },
  {
   "cell_type": "code",
   "execution_count": 12,
   "metadata": {},
   "outputs": [],
   "source": [
    "# IMPORT FILE PATHS \n",
    "active_project = \"../rawdata/iahhist_mf/\"\n",
    "\n",
    "file_paths = glob.glob(os.path.join(active_project, \"*.csv\"))"
   ]
  },
  {
   "cell_type": "code",
   "execution_count": 13,
   "metadata": {},
   "outputs": [],
   "source": [
    "# setting up the list for all raw dfs\n",
    "all_df = []\n",
    "\n",
    "# listing turning movement counts as current \n",
    "current_csv_list = []\n",
    "\n",
    "for file in file_paths:\n",
    "    current_csv_list.append(file)"
   ]
  },
  {
   "cell_type": "code",
   "execution_count": 14,
   "metadata": {},
   "outputs": [],
   "source": [
    "# function to read all csvs listed \n",
    "\n",
    "def read_csv(file_path):\n",
    "    try:\n",
    "        imp_df = pd.read_csv(file_path, \n",
    "                             sep='delimiter',\n",
    "                             header=None,\n",
    "                             engine='python'\n",
    "                            )\n",
    "        return imp_df #imp_df as in imported dataframe\n",
    "    except pd.errors.ParserError as e:\n",
    "        return (file_path, f\"Error parsing CSV: {str(e)}\")  # Return tuple with file path and error message\n",
    "    except FileNotFoundError:\n",
    "        return (file_path, \"File not found\")  # Return tuple with file path and error message"
   ]
  },
  {
   "cell_type": "code",
   "execution_count": 15,
   "metadata": {},
   "outputs": [],
   "source": [
    "## validating dataframes - sometimes there's errors\n",
    "\n",
    "for file_path in current_csv_list:\n",
    "    imp_df = read_csv(file_path)  # Assign the returned DataFrame to imp_df\n",
    "    all_df.append(imp_df)  # Append imp_df to all_df\n",
    "\n",
    "valid_dfs = [df for df in all_df if isinstance(df, pd.DataFrame)]  # Filter out non-DataFrame objects"
   ]
  },
  {
   "cell_type": "code",
   "execution_count": 16,
   "metadata": {},
   "outputs": [],
   "source": [
    "## modify each dataframe\n",
    "\n",
    "def modify_in_df(df):\n",
    " # modifications to the df go here\n",
    "    raw_data_startrow = df.index[df.iloc[:, 0].str.startswith(\"Carrier Code\")].tolist()[0]\n",
    "    raw_data = df.iloc[raw_data_startrow:, :]  # Extract from the starting row onwards\n",
    "    raw_data.reset_index(drop=True, inplace=True)\n",
    "    raw_data = raw_data.rename(columns={raw_data.columns[0]:\"rawdata\"})\n",
    "    raw_table = raw_data[\"rawdata\"].str.split(',',expand=True) #split columns\n",
    "    raw_header = raw_table.iloc[0]\n",
    "    raw_table.columns = raw_header  # Set the new header\n",
    "    raw_table = raw_table.iloc[1:]  # Remove the first row\n",
    "    #raw_table = raw_table.apply(lambda x: x.str.strip('\"'))\n",
    "    #raw_table[\"Date (MM/DD/YYYY)\"] = pd.to_datetime(raw_table[\"Date (MM/DD/YYYY)\"])\n",
    "    #raw_table = raw_table[raw_table[\"Date (MM/DD/YYYY)\"].dt.year > 2012]\n",
    "    return raw_table "
   ]
  },
  {
   "cell_type": "code",
   "execution_count": 17,
   "metadata": {},
   "outputs": [],
   "source": [
    "## loop through dataframes\n",
    "\n",
    "modified_df_list = []  # List to store the modified DataFrames\n",
    "error_log = []  # List to store the error details\n",
    "df = pd.DataFrame()\n",
    "\n",
    "for i in range(len(valid_dfs)):\n",
    "    try:\n",
    "        df = valid_dfs[i]  # Retrieve the DataFrame by index\n",
    "        modified_df = modify_in_df(df) # use this step to Modify the DataFrame\n",
    "        modified_df_list.append(modified_df)  # Append the modified DataFrame to the list\n",
    "        # Generate CSV file for the modified DataFrame\n",
    "        # filename = f\"modified_df_{i}.csv\"\n",
    "        #modified_df.to_csv(filename, index=False)\n",
    "    except Exception as e:\n",
    "        error_log.append((i, str(e)))  # Log the index and error message"
   ]
  },
  {
   "cell_type": "code",
   "execution_count": 18,
   "metadata": {},
   "outputs": [],
   "source": [
    "big_df = pd.concat(modified_df_list, ignore_index=True)\n"
   ]
  }
 ],
 "metadata": {
  "kernelspec": {
   "display_name": "dev00",
   "language": "python",
   "name": "python3"
  },
  "language_info": {
   "codemirror_mode": {
    "name": "ipython",
    "version": 3
   },
   "file_extension": ".py",
   "mimetype": "text/x-python",
   "name": "python",
   "nbconvert_exporter": "python",
   "pygments_lexer": "ipython3",
   "version": "3.10.11"
  },
  "orig_nbformat": 4
 },
 "nbformat": 4,
 "nbformat_minor": 2
}
