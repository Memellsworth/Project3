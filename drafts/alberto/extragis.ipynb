{
 "cells": [
  {
   "cell_type": "code",
   "execution_count": 1,
   "metadata": {},
   "outputs": [],
   "source": [
    "import requests\n",
    "import json"
   ]
  },
  {
   "cell_type": "code",
   "execution_count": 4,
   "metadata": {},
   "outputs": [],
   "source": [
    "# URL without pagination parameters\n",
    "url = 'https://gisportal.ers.usda.gov/server/rest/services/Rural_Atlas_Data/County_Classifications/MapServer/2/query?where=1%3D1&outFields=*&outSR=4326&f=pjson'\n",
    "\n",
    "# Initialize the pagination parameters\n",
    "offset = 0\n",
    "count = 1000\n",
    "data = None\n",
    "\n",
    "while True:\n",
    "    # Add pagination parameters to URL\n",
    "    paginated_url = f\"{url}&resultOffset={offset}&resultRecordCount={count}\"\n",
    "    response = requests.get(paginated_url)\n",
    "    page_data = response.json()\n",
    "\n",
    "    # On the first page, initialize the data with the page data\n",
    "    if data is None:\n",
    "        data = page_data\n",
    "    else:\n",
    "        # On subsequent pages, add the features from the page data to the main data\n",
    "        data['features'].extend(page_data['features'])\n",
    "\n",
    "    # If the number of features in the page is less than the count, this is the last page\n",
    "    if len(page_data['features']) < count:\n",
    "        break\n",
    "\n",
    "    # Increase the offset for the next page\n",
    "    offset += count\n",
    "\n",
    "# Save the data\n",
    "with open('metroareas.json', 'w') as f:\n",
    "    json.dump(data, f)"
   ]
  },
  {
   "cell_type": "code",
   "execution_count": 8,
   "metadata": {},
   "outputs": [],
   "source": [
    "import json\n",
    "\n",
    "# Load the original data\n",
    "with open('metroareas.json', 'r') as f:\n",
    "    data = json.load(f)\n",
    "\n",
    "# Define the structure of the new data\n",
    "new_data = {\n",
    "    'type': 'FeatureCollection',\n",
    "    'features': []\n",
    "}\n",
    "\n",
    "# Transform the original data into the new structure\n",
    "for feature in data['features']:\n",
    "    new_feature = {\n",
    "        'type': 'Feature',\n",
    "        'properties': feature['attributes'],\n",
    "        'geometry': {\n",
    "            'type': 'Polygon',\n",
    "            'coordinates': feature['geometry']['rings']\n",
    "        }\n",
    "    }\n",
    "    new_data['features'].append(new_feature)\n",
    "\n",
    "# Save the new data\n",
    "with open('new_metrodata.geojson', 'w') as f:\n",
    "    json.dump(new_data, f)\n"
   ]
  }
 ],
 "metadata": {
  "kernelspec": {
   "display_name": "dev00",
   "language": "python",
   "name": "python3"
  },
  "language_info": {
   "codemirror_mode": {
    "name": "ipython",
    "version": 3
   },
   "file_extension": ".py",
   "mimetype": "text/x-python",
   "name": "python",
   "nbconvert_exporter": "python",
   "pygments_lexer": "ipython3",
   "version": "3.10.11"
  },
  "orig_nbformat": 4
 },
 "nbformat": 4,
 "nbformat_minor": 2
}
