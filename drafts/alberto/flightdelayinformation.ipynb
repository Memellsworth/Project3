{
 "cells": [
  {
   "attachments": {},
   "cell_type": "markdown",
   "metadata": {},
   "source": [
    "# Importing All of Texas flight delay info into dataframe"
   ]
  },
  {
   "cell_type": "code",
   "execution_count": 1,
   "metadata": {},
   "outputs": [],
   "source": [
    "# IMPORT MODULES\n",
    "import pandas as pd\n",
    "import os\n",
    "import glob\n",
    "import csv"
   ]
  },
  {
   "attachments": {},
   "cell_type": "markdown",
   "metadata": {},
   "source": [
    "## quick test\n",
    "\n",
    "> checking format and schema of the table to ensure formatting and information"
   ]
  },
  {
   "cell_type": "code",
   "execution_count": 2,
   "metadata": {},
   "outputs": [],
   "source": [
    "test_csv = \"../../drafts/rawdata/texas2022/apr-2022.csv\""
   ]
  },
  {
   "cell_type": "code",
   "execution_count": 3,
   "metadata": {},
   "outputs": [],
   "source": [
    "test_df = pd.read_csv(test_csv)"
   ]
  },
  {
   "cell_type": "code",
   "execution_count": 4,
   "metadata": {},
   "outputs": [
    {
     "data": {
      "text/plain": [
       "101680"
      ]
     },
     "execution_count": 4,
     "metadata": {},
     "output_type": "execute_result"
    }
   ],
   "source": [
    "len(test_df)"
   ]
  },
  {
   "cell_type": "code",
   "execution_count": 5,
   "metadata": {},
   "outputs": [
    {
     "data": {
      "text/plain": [
       "YEAR                       int64\n",
       "QUARTER                    int64\n",
       "MONTH                      int64\n",
       "FL_DATE                   object\n",
       "OP_UNIQUE_CARRIER         object\n",
       "TAIL_NUM                  object\n",
       "OP_CARRIER_FL_NUM          int64\n",
       "ORIGIN_AIRPORT_ID          int64\n",
       "ORIGIN_AIRPORT_SEQ_ID      int64\n",
       "ORIGIN_CITY_MARKET_ID      int64\n",
       "ORIGIN                    object\n",
       "ORIGIN_CITY_NAME          object\n",
       "ORIGIN_STATE_NM           object\n",
       "DEST_AIRPORT_ID            int64\n",
       "DEST_AIRPORT_SEQ_ID        int64\n",
       "DEST_CITY_MARKET_ID        int64\n",
       "DEST                      object\n",
       "DEST_CITY_NAME            object\n",
       "DEST_STATE_NM             object\n",
       "DEP_DELAY                float64\n",
       "TAXI_OUT                 float64\n",
       "WHEELS_OFF               float64\n",
       "WHEELS_ON                float64\n",
       "TAXI_IN                  float64\n",
       "ARR_DELAY                float64\n",
       "CANCELLED                float64\n",
       "CANCELLATION_CODE         object\n",
       "DIVERTED                 float64\n",
       "CARRIER_DELAY            float64\n",
       "WEATHER_DELAY            float64\n",
       "NAS_DELAY                float64\n",
       "SECURITY_DELAY           float64\n",
       "LATE_AIRCRAFT_DELAY      float64\n",
       "DIV_DISTANCE             float64\n",
       "dtype: object"
      ]
     },
     "execution_count": 5,
     "metadata": {},
     "output_type": "execute_result"
    }
   ],
   "source": [
    "test_df.dtypes"
   ]
  },
  {
   "cell_type": "code",
   "execution_count": 6,
   "metadata": {},
   "outputs": [
    {
     "data": {
      "text/html": [
       "<div>\n",
       "<style scoped>\n",
       "    .dataframe tbody tr th:only-of-type {\n",
       "        vertical-align: middle;\n",
       "    }\n",
       "\n",
       "    .dataframe tbody tr th {\n",
       "        vertical-align: top;\n",
       "    }\n",
       "\n",
       "    .dataframe thead th {\n",
       "        text-align: right;\n",
       "    }\n",
       "</style>\n",
       "<table border=\"1\" class=\"dataframe\">\n",
       "  <thead>\n",
       "    <tr style=\"text-align: right;\">\n",
       "      <th></th>\n",
       "      <th>YEAR</th>\n",
       "      <th>QUARTER</th>\n",
       "      <th>MONTH</th>\n",
       "      <th>FL_DATE</th>\n",
       "      <th>OP_UNIQUE_CARRIER</th>\n",
       "      <th>TAIL_NUM</th>\n",
       "      <th>OP_CARRIER_FL_NUM</th>\n",
       "      <th>ORIGIN_AIRPORT_ID</th>\n",
       "      <th>ORIGIN_AIRPORT_SEQ_ID</th>\n",
       "      <th>ORIGIN_CITY_MARKET_ID</th>\n",
       "      <th>...</th>\n",
       "      <th>ARR_DELAY</th>\n",
       "      <th>CANCELLED</th>\n",
       "      <th>CANCELLATION_CODE</th>\n",
       "      <th>DIVERTED</th>\n",
       "      <th>CARRIER_DELAY</th>\n",
       "      <th>WEATHER_DELAY</th>\n",
       "      <th>NAS_DELAY</th>\n",
       "      <th>SECURITY_DELAY</th>\n",
       "      <th>LATE_AIRCRAFT_DELAY</th>\n",
       "      <th>DIV_DISTANCE</th>\n",
       "    </tr>\n",
       "  </thead>\n",
       "  <tbody>\n",
       "    <tr>\n",
       "      <th>0</th>\n",
       "      <td>2022</td>\n",
       "      <td>2</td>\n",
       "      <td>4</td>\n",
       "      <td>4/1/2022 12:00:00 AM</td>\n",
       "      <td>9E</td>\n",
       "      <td>N136EV</td>\n",
       "      <td>4650</td>\n",
       "      <td>10423</td>\n",
       "      <td>1042302</td>\n",
       "      <td>30423</td>\n",
       "      <td>...</td>\n",
       "      <td>-6.0</td>\n",
       "      <td>0.0</td>\n",
       "      <td>NaN</td>\n",
       "      <td>0.0</td>\n",
       "      <td>NaN</td>\n",
       "      <td>NaN</td>\n",
       "      <td>NaN</td>\n",
       "      <td>NaN</td>\n",
       "      <td>NaN</td>\n",
       "      <td>NaN</td>\n",
       "    </tr>\n",
       "    <tr>\n",
       "      <th>1</th>\n",
       "      <td>2022</td>\n",
       "      <td>2</td>\n",
       "      <td>4</td>\n",
       "      <td>4/1/2022 12:00:00 AM</td>\n",
       "      <td>9E</td>\n",
       "      <td>N136EV</td>\n",
       "      <td>4650</td>\n",
       "      <td>11193</td>\n",
       "      <td>1119302</td>\n",
       "      <td>33105</td>\n",
       "      <td>...</td>\n",
       "      <td>2.0</td>\n",
       "      <td>0.0</td>\n",
       "      <td>NaN</td>\n",
       "      <td>0.0</td>\n",
       "      <td>NaN</td>\n",
       "      <td>NaN</td>\n",
       "      <td>NaN</td>\n",
       "      <td>NaN</td>\n",
       "      <td>NaN</td>\n",
       "      <td>NaN</td>\n",
       "    </tr>\n",
       "    <tr>\n",
       "      <th>2</th>\n",
       "      <td>2022</td>\n",
       "      <td>2</td>\n",
       "      <td>4</td>\n",
       "      <td>4/1/2022 12:00:00 AM</td>\n",
       "      <td>9E</td>\n",
       "      <td>N600LR</td>\n",
       "      <td>4628</td>\n",
       "      <td>10423</td>\n",
       "      <td>1042302</td>\n",
       "      <td>30423</td>\n",
       "      <td>...</td>\n",
       "      <td>48.0</td>\n",
       "      <td>0.0</td>\n",
       "      <td>NaN</td>\n",
       "      <td>0.0</td>\n",
       "      <td>0.0</td>\n",
       "      <td>0.0</td>\n",
       "      <td>0.0</td>\n",
       "      <td>0.0</td>\n",
       "      <td>48.0</td>\n",
       "      <td>NaN</td>\n",
       "    </tr>\n",
       "  </tbody>\n",
       "</table>\n",
       "<p>3 rows × 34 columns</p>\n",
       "</div>"
      ],
      "text/plain": [
       "   YEAR  QUARTER  MONTH               FL_DATE OP_UNIQUE_CARRIER TAIL_NUM  \\\n",
       "0  2022        2      4  4/1/2022 12:00:00 AM                9E   N136EV   \n",
       "1  2022        2      4  4/1/2022 12:00:00 AM                9E   N136EV   \n",
       "2  2022        2      4  4/1/2022 12:00:00 AM                9E   N600LR   \n",
       "\n",
       "   OP_CARRIER_FL_NUM  ORIGIN_AIRPORT_ID  ORIGIN_AIRPORT_SEQ_ID  \\\n",
       "0               4650              10423                1042302   \n",
       "1               4650              11193                1119302   \n",
       "2               4628              10423                1042302   \n",
       "\n",
       "   ORIGIN_CITY_MARKET_ID  ... ARR_DELAY CANCELLED CANCELLATION_CODE  DIVERTED  \\\n",
       "0                  30423  ...      -6.0       0.0               NaN       0.0   \n",
       "1                  33105  ...       2.0       0.0               NaN       0.0   \n",
       "2                  30423  ...      48.0       0.0               NaN       0.0   \n",
       "\n",
       "   CARRIER_DELAY  WEATHER_DELAY NAS_DELAY SECURITY_DELAY LATE_AIRCRAFT_DELAY  \\\n",
       "0            NaN            NaN       NaN            NaN                 NaN   \n",
       "1            NaN            NaN       NaN            NaN                 NaN   \n",
       "2            0.0            0.0       0.0            0.0                48.0   \n",
       "\n",
       "   DIV_DISTANCE  \n",
       "0           NaN  \n",
       "1           NaN  \n",
       "2           NaN  \n",
       "\n",
       "[3 rows x 34 columns]"
      ]
     },
     "execution_count": 6,
     "metadata": {},
     "output_type": "execute_result"
    }
   ],
   "source": [
    "test_df.head(3)"
   ]
  },
  {
   "attachments": {},
   "cell_type": "markdown",
   "metadata": {},
   "source": [
    "### Glob Importer \n",
    "\n",
    "Source download: \n",
    "> monthly reports for the state of Texas from the Bureau of Transportation Statistics https://www.transtats.bts.gov/DL_SelectFields.aspx?gnoyr_VQ=FGJ&QO_fu146_anzr=b0-gvzr"
   ]
  },
  {
   "cell_type": "code",
   "execution_count": 7,
   "metadata": {},
   "outputs": [],
   "source": [
    "# IMPORT FILE PATHS \n",
    "active_project = \"../../../Project3/drafts/rawdata/texas2022/\"\n",
    "csv_output = \"../../../Project3/drafts/alberto/texas_2022_delays.csv\"\n",
    "\n",
    "file_paths = glob.glob(os.path.join(active_project, \"*.csv\"))"
   ]
  },
  {
   "cell_type": "code",
   "execution_count": 8,
   "metadata": {},
   "outputs": [],
   "source": [
    "# setting up the list for all raw dfs\n",
    "all_df = []\n",
    "\n",
    "# listing turning movement counts as current \n",
    "current_csv_list = []\n",
    "\n",
    "for file in file_paths:\n",
    "    current_csv_list.append(file)"
   ]
  },
  {
   "cell_type": "code",
   "execution_count": 9,
   "metadata": {},
   "outputs": [
    {
     "name": "stdout",
     "output_type": "stream",
     "text": [
      "12\n"
     ]
    }
   ],
   "source": [
    "# printing the length list to confirm number of csv's\n",
    "print(len(current_csv_list))"
   ]
  },
  {
   "cell_type": "code",
   "execution_count": 10,
   "metadata": {},
   "outputs": [],
   "source": [
    "# function to read all csvs listed \n",
    "\n",
    "def read_csv(file_path):\n",
    "    try:\n",
    "        imp_df = pd.read_csv(file_path, \n",
    "                             sep='delimiter',\n",
    "                             header=None,\n",
    "                             engine='python'\n",
    "                            )\n",
    "        return imp_df #imp_df as in imported dataframe\n",
    "    except pd.errors.ParserError as e:\n",
    "        return (file_path, f\"Error parsing CSV: {str(e)}\")  # Return tuple with file path and error message\n",
    "    except FileNotFoundError:\n",
    "        return (file_path, \"File not found\")  # Return tuple with file path and error message\n"
   ]
  },
  {
   "cell_type": "code",
   "execution_count": 11,
   "metadata": {},
   "outputs": [],
   "source": [
    "## validating dataframes - sometimes there's errors\n",
    "\n",
    "for file_path in current_csv_list:\n",
    "    imp_df = read_csv(file_path)  # Assign the returned DataFrame to imp_df\n",
    "    all_df.append(imp_df)  # Append imp_df to all_df\n",
    "\n",
    "valid_dfs = [df for df in all_df if isinstance(df, pd.DataFrame)]  # Filter out non-DataFrame objects"
   ]
  },
  {
   "cell_type": "code",
   "execution_count": 12,
   "metadata": {},
   "outputs": [
    {
     "name": "stdout",
     "output_type": "stream",
     "text": [
      "12\n"
     ]
    }
   ],
   "source": [
    "## printing length of list of df's that should match to the previous length list\n",
    "print(len(valid_dfs))"
   ]
  },
  {
   "cell_type": "code",
   "execution_count": 13,
   "metadata": {},
   "outputs": [
    {
     "ename": "SyntaxError",
     "evalue": "'return' outside function (1557062187.py, line 6)",
     "output_type": "error",
     "traceback": [
      "\u001b[0;36m  Cell \u001b[0;32mIn[13], line 6\u001b[0;36m\u001b[0m\n\u001b[0;31m    return modif\u001b[0m\n\u001b[0m    ^\u001b[0m\n\u001b[0;31mSyntaxError\u001b[0m\u001b[0;31m:\u001b[0m 'return' outside function\n"
     ]
    }
   ],
   "source": [
    "## modify each dataframe\n",
    "\n",
    "def modify_in_df(df):\n",
    " # modifications to the df go here - first check through test above\n",
    "    df = modif\n",
    "return modif  "
   ]
  },
  {
   "cell_type": "code",
   "execution_count": 14,
   "metadata": {},
   "outputs": [],
   "source": [
    "## loop through dataframes\n",
    "\n",
    "modified_df_list = []  # List to store the modified DataFrames\n",
    "error_log = []  # List to store the error details\n",
    "df = pd.DataFrame()\n",
    "\n",
    "for i in range(len(valid_dfs)):\n",
    "    try:\n",
    "        df = valid_dfs[i]  # Retrieve the DataFrame by index\n",
    "        modified_df = df # use this step to Modify the DataFrame\n",
    "        modified_df_list.append(modified_df)  # Append the modified DataFrame to the list\n",
    "    except Exception as e:\n",
    "        error_log.append((i, str(e)))  # Log the index and error message\n"
   ]
  },
  {
   "cell_type": "code",
   "execution_count": 15,
   "metadata": {},
   "outputs": [],
   "source": [
    "## concatenate through all the lists\n",
    "\n",
    "big_df = pd.concat(modified_df_list, ignore_index=True)\n"
   ]
  },
  {
   "cell_type": "code",
   "execution_count": 16,
   "metadata": {},
   "outputs": [
    {
     "name": "stdout",
     "output_type": "stream",
     "text": [
      "<class 'pandas.core.frame.DataFrame'>\n",
      "RangeIndex: 1245034 entries, 0 to 1245033\n",
      "Data columns (total 1 columns):\n",
      " #   Column  Non-Null Count    Dtype \n",
      "---  ------  --------------    ----- \n",
      " 0   0       1245034 non-null  object\n",
      "dtypes: object(1)\n",
      "memory usage: 9.5+ MB\n"
     ]
    }
   ],
   "source": [
    "big_df.info()"
   ]
  },
  {
   "attachments": {},
   "cell_type": "markdown",
   "metadata": {},
   "source": [
    "### Operating Notes \n",
    "This dataframe is initially pretty big as a csv (+250MB) but as a dataframe its under 10MB. "
   ]
  },
  {
   "cell_type": "code",
   "execution_count": 17,
   "metadata": {},
   "outputs": [],
   "source": [
    "## big_df.to_csv(csv_output, index=False) testing the batch size"
   ]
  }
 ],
 "metadata": {
  "kernelspec": {
   "display_name": "dev00",
   "language": "python",
   "name": "python3"
  },
  "language_info": {
   "codemirror_mode": {
    "name": "ipython",
    "version": 3
   },
   "file_extension": ".py",
   "mimetype": "text/x-python",
   "name": "python",
   "nbconvert_exporter": "python",
   "pygments_lexer": "ipython3",
   "version": "3.10.10"
  },
  "orig_nbformat": 4
 },
 "nbformat": 4,
 "nbformat_minor": 2
}
