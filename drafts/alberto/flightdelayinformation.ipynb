{
 "cells": [
  {
   "cell_type": "code",
   "execution_count": 1,
   "metadata": {},
   "outputs": [],
   "source": [
    "# IMPORT MODULES\n",
    "import pandas as pd\n",
    "import os\n",
    "import glob\n",
    "import csv"
   ]
  },
  {
   "cell_type": "code",
   "execution_count": 2,
   "metadata": {},
   "outputs": [],
   "source": [
    "# IMPORT FILE PATHS \n",
    "active_project = \"../../../Project3/drafts/rawdata/texas2022/\"\n",
    "\n",
    "file_paths = glob.glob(os.path.join(active_project, \"*.csv\"))"
   ]
  },
  {
   "cell_type": "code",
   "execution_count": 3,
   "metadata": {},
   "outputs": [],
   "source": [
    "# setting up the list for all raw dfs\n",
    "all_df = []\n",
    "\n",
    "# listing turning movement counts as current \n",
    "current_csv_list = []\n",
    "\n",
    "for file in file_paths:\n",
    "    current_csv_list.append(file)"
   ]
  },
  {
   "cell_type": "code",
   "execution_count": 4,
   "metadata": {},
   "outputs": [],
   "source": [
    "# function to read all csvs listed \n",
    "\n",
    "def read_csv(file_path):\n",
    "    try:\n",
    "        imp_df = pd.read_csv(file_path, \n",
    "                             sep='delimiter',\n",
    "                             header=None,\n",
    "                             engine='python'\n",
    "                            )\n",
    "        return imp_df #imp_df as in imported dataframe\n",
    "    except pd.errors.ParserError as e:\n",
    "        return (file_path, f\"Error parsing CSV: {str(e)}\")  # Return tuple with file path and error message\n",
    "    except FileNotFoundError:\n",
    "        return (file_path, \"File not found\")  # Return tuple with file path and error message\n"
   ]
  },
  {
   "cell_type": "code",
   "execution_count": 5,
   "metadata": {},
   "outputs": [],
   "source": [
    "## validating dataframes - sometimes there's errors\n",
    "\n",
    "for file_path in current_csv_list:\n",
    "    imp_df = read_csv(file_path)  # Assign the returned DataFrame to imp_df\n",
    "    all_df.append(imp_df)  # Append imp_df to all_df\n",
    "\n",
    "valid_dfs = [df for df in all_df if isinstance(df, pd.DataFrame)]  # Filter out non-DataFrame objects"
   ]
  },
  {
   "cell_type": "code",
   "execution_count": 7,
   "metadata": {},
   "outputs": [],
   "source": [
    "## loop through dataframes\n",
    "\n",
    "modified_df_list = []  # List to store the modified DataFrames\n",
    "error_log = []  # List to store the error details\n",
    "df = pd.DataFrame()\n",
    "\n",
    "for i in range(len(valid_dfs)):\n",
    "    try:\n",
    "        df = valid_dfs[i]  # Retrieve the DataFrame by index\n",
    "        modified_df = df # use this step to Modify the DataFrame\n",
    "        modified_df_list.append(modified_df)  # Append the modified DataFrame to the list\n",
    "    except Exception as e:\n",
    "        error_log.append((i, str(e)))  # Log the index and error message\n"
   ]
  },
  {
   "cell_type": "code",
   "execution_count": 8,
   "metadata": {},
   "outputs": [],
   "source": [
    "## concatenate through all the lists\n",
    "\n",
    "big_df = pd.concat(modified_df_list, ignore_index=True)\n"
   ]
  },
  {
   "cell_type": "code",
   "execution_count": 16,
   "metadata": {},
   "outputs": [],
   "source": [
    "raw_data_startrow = big_df.index[big_df.iloc[:, 0] == \"YEAR,QUARTER,MONTH,FL_DATE,OP_UNIQUE_CARRIER,TAIL_NUM,OP_CARRIER_FL_NUM,ORIGIN_AIRPORT_ID,ORIGIN_AIRPORT_SEQ_ID,ORIGIN_CITY_MARKET_ID,ORIGIN,ORIGIN_CITY_NAME,ORIGIN_STATE_NM,DEST_AIRPORT_ID,DEST_AIRPORT_SEQ_ID,DEST_CITY_MARKET_ID,DEST,DEST_CITY_NAME,DEST_STATE_NM,DEP_DELAY,TAXI_OUT,WHEELS_OFF,WHEELS_ON,TAXI_IN,ARR_DELAY,CANCELLED,CANCELLATION_CODE,DIVERTED,CARRIER_DELAY,WEATHER_DELAY,NAS_DELAY,SECURITY_DELAY,LATE_AIRCRAFT_DELAY,DIV_DISTANCE\"].tolist()[0]\n",
    "raw_data = big_df.iloc[raw_data_startrow:, :]  # Extract from the starting row onwards\n",
    "raw_data.reset_index(drop=True, inplace=True)\n",
    "raw_data = raw_data.rename(columns={raw_data.columns[0]:\"rawdata\"})\n",
    "raw_table = raw_data[\"rawdata\"].str.split(',',expand=True) #split columns\n",
    "raw_header = raw_table.iloc[0]\n",
    "raw_table.columns = raw_header  # Set the new header\n",
    "raw_table = raw_table.iloc[1:]  # Remove the first row"
   ]
  },
  {
   "cell_type": "code",
   "execution_count": 23,
   "metadata": {},
   "outputs": [],
   "source": [
    "truncated_df = raw_table[(raw_table['ORIGIN_AIRPORT_ID'] == '12266') | (raw_table['DEST_AIRPORT_ID'] == '12266')]"
   ]
  },
  {
   "cell_type": "code",
   "execution_count": null,
   "metadata": {},
   "outputs": [],
   "source": [
    "current_iah = truncated_df"
   ]
  }
 ],
 "metadata": {
  "kernelspec": {
   "display_name": "dev00",
   "language": "python",
   "name": "python3"
  },
  "language_info": {
   "codemirror_mode": {
    "name": "ipython",
    "version": 3
   },
   "file_extension": ".py",
   "mimetype": "text/x-python",
   "name": "python",
   "nbconvert_exporter": "python",
   "pygments_lexer": "ipython3",
   "version": "3.10.11"
  },
  "orig_nbformat": 4
 },
 "nbformat": 4,
 "nbformat_minor": 2
}
