{
 "cells": [
  {
   "cell_type": "code",
   "execution_count": 1,
   "metadata": {},
   "outputs": [],
   "source": [
    "from selenium import webdriver\n",
    "from selenium.webdriver.common.by import By\n",
    "from selenium.webdriver.support.ui import Select\n",
    "from selenium.webdriver.common.action_chains import ActionChains\n",
    "from selenium.webdriver.support.ui import WebDriverWait\n",
    "from selenium.webdriver.support import expected_conditions as EC\n",
    "from selenium.webdriver.chrome.options import Options\n",
    "from selenium.webdriver.common.keys import Keys\n",
    "from selenium.webdriver.chrome.service import Service\n",
    "import time\n",
    "import csv\n",
    "import shutil\n",
    "import pandas as pd\n",
    "import warnings\n",
    "import os\n",
    "import logging\n",
    "import pyautogui\n"
   ]
  },
  {
   "cell_type": "code",
   "execution_count": 2,
   "metadata": {},
   "outputs": [],
   "source": [
    "airlines = [\"Alaska Airlines Inc. (AS)\",\n",
    "            \"American Airlines Inc. (AA)\",\n",
    "            \"Delta Airlines Inc. (DL)\",\n",
    "            \"Frontier Airlines Inc. (F9)\",\n",
    "            \"JetBlue Airways (B6)\",\n",
    "            \"Southwest Airlines Co. (WN)\",\n",
    "            \"Spirit Airlines (NK)\",\n",
    "            \"United Airlines Inc. (UA)\",\n",
    "            \"America West Airlines Inc. (HP)\",\n",
    "            \"Atlantic Southeast Airlines (EV)\",\n",
    "            \"Continental Airlines Inc. (CO)\",\n",
    "            \"US Airways Inc. (US)\",\n",
    "            \"SkyWest Airlines Inc. (OO)\",\n",
    "            \"Republic Airline (YX)\",\n",
    "            \"Endeavor Air Inc. (9E)\",\n",
    "            \"American Eagle Airlines Inc. (MQ)\",\n",
    "            ]\n"
   ]
  },
  {
   "cell_type": "code",
   "execution_count": 3,
   "metadata": {},
   "outputs": [],
   "source": [
    "# Path to the Chrome WebDriver executable\n",
    "driverpath = \"../maura/chromedriver.exe\"\n",
    "# Create a Service object with the specified path\n",
    "service = Service(driverpath)"
   ]
  },
  {
   "cell_type": "code",
   "execution_count": 22,
   "metadata": {},
   "outputs": [],
   "source": [
    "# Set the download directory\n",
    "download_dir = \"../rawdata/iahhist/\"\n",
    "os.makedirs(download_dir, exist_ok=True)"
   ]
  },
  {
   "cell_type": "code",
   "execution_count": 16,
   "metadata": {},
   "outputs": [],
   "source": [
    "options = webdriver.ChromeOptions()\n",
    "options.add_experimental_option(\"prefs\", {\n",
    "        \"download.default_directory\": download_dir,\n",
    "        \"download.prompt_for_download\": True,\n",
    "        \"download.directory_upgrade\": True,\n",
    "        \"safebrowsing.enabled\": True\n",
    "    })"
   ]
  },
  {
   "cell_type": "code",
   "execution_count": 34,
   "metadata": {},
   "outputs": [],
   "source": [
    "absolute_path = r\"E:\\Dropbox\\Dropbox\\GRADRICE - DA\\Projects\\Project3\\drafts\\rawdata\\iahhist\""
   ]
  },
  {
   "cell_type": "code",
   "execution_count": 25,
   "metadata": {},
   "outputs": [],
   "source": [
    "# Pass the Service object to webdriver.Chrome()\n",
    "driver = webdriver.Chrome(service=service,options=options)\n",
    "url = 'https://www.transtats.bts.gov/ontime/departures.aspx'\n",
    "driver.get(url)"
   ]
  },
  {
   "cell_type": "code",
   "execution_count": 26,
   "metadata": {},
   "outputs": [],
   "source": [
    "# Selecting check historical statistics\n",
    "\n",
    "driver.find_element(\"id\",\"chkAllStatistics\").click()\n",
    "driver.find_element(\"id\",\"cboAirport\").click()\n",
    "#filter airport ot houston \n",
    "driver.find_element(\"xpath\",\"//*[contains(text(),'George Bush Intercontinental/Houston (IAH)')]\").click()\n",
    "#click allmonths, all days and all years\n",
    "   #click all dates and all years \n",
    "driver.find_element(\"id\", \"chkAllMonths\").click()\n",
    "driver.find_element(\"id\", \"chkAllDays\").click()\n",
    "driver.find_element(\"id\", \"chkAllYears\").click()"
   ]
  },
  {
   "cell_type": "code",
   "execution_count": 27,
   "metadata": {},
   "outputs": [],
   "source": [
    "# Set up logging\n",
    "logging.basicConfig(level=logging.INFO)\n",
    "logger = logging.getLogger(__name__)"
   ]
  },
  {
   "cell_type": "code",
   "execution_count": 20,
   "metadata": {},
   "outputs": [],
   "source": [
    "# Selecting the airlines\n",
    "csv_names = []"
   ]
  },
  {
   "cell_type": "code",
   "execution_count": 42,
   "metadata": {},
   "outputs": [],
   "source": [
    "# downloading all files\n",
    "\n",
    "for index, airline in enumerate(airlines):\n",
    "    \n",
    "    try:\n",
    "        # Filter airport to Houston\n",
    "        time.sleep(10)\n",
    "        element = driver.find_element(\"id\", \"cboAirline\")\n",
    "        actions = ActionChains(driver)\n",
    "        actions.move_to_element(element).perform()\n",
    "        \n",
    "        # Wait for the dropdown menu to be clickable\n",
    "        wait = WebDriverWait(driver, 10)\n",
    "        dropdown_menu = wait.until(EC.element_to_be_clickable((By.ID, \"cboAirline\")))\n",
    "        \n",
    "        # Click the dropdown menu\n",
    "        dropdown_menu.click()\n",
    "        \n",
    "        # Click the airline option\n",
    "        airline_option = wait.until(EC.element_to_be_clickable((By.XPATH, \"//*[contains(text(),'\" + airline + \"')]\")))\n",
    "        airline_option.click()\n",
    "        \n",
    "        # Click submit button\n",
    "        driver.find_element(\"id\", \"btnSubmit\").click()\n",
    "        # Wait for page to load\n",
    "        time.sleep(5)\n",
    "\n",
    "        # Export the CSV\n",
    "        driver.find_element(\"id\", \"DL_CSV\").click()\n",
    "        # Wait for the download\n",
    "        time.sleep(20)\n",
    "\n",
    "        # Use pyautogui to automate keyboard inputs\n",
    "        pyautogui.typewrite([\"tab\",\"tab\",\"tab\",\"tab\",\"tab\",\"tab\"])  # tab to the file directory field\n",
    "        pyautogui.press(\"enter\") # Press Enter to confirm the path\n",
    "        pyautogui.typewrite(absolute_path)\n",
    "        pyautogui.press(\"enter\") # Press Enter to confirm the path\n",
    "        pyautogui.press(\"enter\")  # Press Enter to save the file\n",
    "            \n",
    "    except Exception as e:\n",
    "        logger.error(f\"Error occurred for airline {airline}: {str(e)}\")"
   ]
  }
 ],
 "metadata": {
  "kernelspec": {
   "display_name": "dev",
   "language": "python",
   "name": "python3"
  },
  "language_info": {
   "codemirror_mode": {
    "name": "ipython",
    "version": 3
   },
   "file_extension": ".py",
   "mimetype": "text/x-python",
   "name": "python",
   "nbconvert_exporter": "python",
   "pygments_lexer": "ipython3",
   "version": "3.10.11"
  },
  "orig_nbformat": 4
 },
 "nbformat": 4,
 "nbformat_minor": 2
}
